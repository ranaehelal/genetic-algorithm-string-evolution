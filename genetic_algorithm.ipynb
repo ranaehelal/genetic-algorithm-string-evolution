{
  "nbformat": 4,
  "nbformat_minor": 0,
  "metadata": {
    "colab": {
      "provenance": [],
      "collapsed_sections": [
        "OFNa1mgYsWu0",
        "g4E4lEg1tsp5",
        "xx86bBYTs89F",
        "g4aoa78lt5OG",
        "QiTLhLf1t6hW",
        "HHxdJcOtt7HQ"
      ],
      "authorship_tag": "ABX9TyPpGXPUAKLJoP1c49WS4YPS",
      "include_colab_link": true
    },
    "kernelspec": {
      "name": "python3",
      "display_name": "Python 3"
    },
    "language_info": {
      "name": "python"
    }
  },
  "cells": [
    {
      "cell_type": "markdown",
      "metadata": {
        "id": "view-in-github",
        "colab_type": "text"
      },
      "source": [
        "<a href=\"https://colab.research.google.com/github/ranaehelal/genetic-algorithm-string-evolution/blob/main/genetic_algorithm.ipynb\" target=\"_parent\"><img src=\"https://colab.research.google.com/assets/colab-badge.svg\" alt=\"Open In Colab\"/></a>"
      ]
    },
    {
      "cell_type": "code",
      "execution_count": null,
      "metadata": {
        "id": "l6Yn0xJNrqoo"
      },
      "outputs": [],
      "source": [
        "import random\n",
        "\n",
        "GENES = 'abcdefghijklmnopqrstuvwxyz '\n",
        "TARGET = \"computational cognitive science\"\n",
        "POP_SIZE = 500\n",
        "MUT_RATE = 0.1"
      ]
    },
    {
      "cell_type": "markdown",
      "source": [
        "#Initialization\n",
        "\n",
        "''This function returns initial population.\n",
        "\n",
        "\n",
        "Generating a population of size equal to TARGETS length. Each of the string in population would be\n",
        "called “Chromosome” and each Chromosome consists of only the letters defined in GENES.''"
      ],
      "metadata": {
        "id": "OFNa1mgYsWu0"
      }
    },
    {
      "cell_type": "code",
      "source": [
        "def initialize_population():\n",
        "    population = []\n",
        "    for _ in range(POP_SIZE):\n",
        "        chromosome = ''.join(random.choice(GENES) for _ in range(len(TARGET)))\n",
        "        population.append(chromosome)\n",
        "    return population"
      ],
      "metadata": {
        "id": "hKkrx-orsT2K"
      },
      "execution_count": null,
      "outputs": []
    },
    {
      "cell_type": "markdown",
      "source": [
        "# Fitness Calculation\n",
        "'' This function returns chromosomes along with their fitness level.''"
      ],
      "metadata": {
        "id": "g4E4lEg1tsp5"
      }
    },
    {
      "cell_type": "code",
      "source": [
        "def calculate_fitness(population):\n",
        "    fitness_list = []\n",
        "    for chromosome in population:\n",
        "        fitness = sum(1 for c, t in zip(chromosome, TARGET) if c == t)\n",
        "        fitness_list.append((chromosome, fitness))\n",
        "    return fitness_list"
      ],
      "metadata": {
        "id": "GbDWkxZYtM1U"
      },
      "execution_count": null,
      "outputs": []
    },
    {
      "cell_type": "markdown",
      "source": [
        "#Selection\n",
        "''This function returns top 50% population sorted according to fitness.\n",
        "\n",
        "To select the best chromosomes we need to sort them in ascending order as per our fitness definition.\n",
        "We are returning only the top 50% of the population to avoid bad chromosomes from entering future\n",
        "population.''"
      ],
      "metadata": {
        "id": "xx86bBYTs89F"
      }
    },
    {
      "cell_type": "code",
      "source": [
        "def selection(fitness_list):\n",
        "    sorted_list = sorted(fitness_list, key=lambda x: x[1], reverse=True)\n",
        "    top_50_percent = sorted_list[:len(sorted_list)//2]\n",
        "    selected = [chromosome for chromosome, fitness in top_50_percent]\n",
        "    return selected"
      ],
      "metadata": {
        "id": "2oPicYjCs5mW"
      },
      "execution_count": null,
      "outputs": []
    },
    {
      "cell_type": "markdown",
      "source": [
        "#Crossover\n",
        " This function will return a list of offspring with a length equal to the length of\n",
        "initial population.\n",
        "\n",
        "\n",
        "\n"
      ],
      "metadata": {
        "id": "g4aoa78lt5OG"
      }
    },
    {
      "cell_type": "code",
      "source": [
        "def crossover(parents):\n",
        "    offspring = []\n",
        "    while len(offspring) < POP_SIZE:\n",
        "\n",
        "        parent1 = random.choice(parents)\n",
        "        parent2 = random.choice(parents)\n",
        "\n",
        "        cross_point = random.randint(1, len(TARGET) - 1)\n",
        "        child = parent1[:cross_point] + parent2[cross_point:]\n",
        "        offspring.append(child)\n",
        "\n",
        "    return offspring"
      ],
      "metadata": {
        "id": "WZG3ZVrCuH1t"
      },
      "execution_count": null,
      "outputs": []
    },
    {
      "cell_type": "markdown",
      "source": [
        "#Mutation:\n",
        " This function would return a mutated list of population.\n",
        "\n"
      ],
      "metadata": {
        "id": "QiTLhLf1t6hW"
      }
    },
    {
      "cell_type": "code",
      "source": [
        "def mutation(offspring):\n",
        "    mutated_offspring = []\n",
        "\n",
        "    for chromosome in offspring:\n",
        "        mutated = ''\n",
        "        for gene in chromosome:\n",
        "            if random.random() < MUT_RATE:\n",
        "                mutated += random.choice(GENES)\n",
        "            else:\n",
        "                mutated += gene\n",
        "        mutated_offspring.append(mutated)\n",
        "\n",
        "    return mutated_offspring"
      ],
      "metadata": {
        "id": "op50YHOauW4r"
      },
      "execution_count": null,
      "outputs": []
    },
    {
      "cell_type": "markdown",
      "source": [
        "# Replacement\n",
        " This function will return the best chromosomes from our initial population\n",
        "and new gen."
      ],
      "metadata": {
        "id": "HHxdJcOtt7HQ"
      }
    },
    {
      "cell_type": "code",
      "source": [
        "def replacement(old_population, new_population):\n",
        "\n",
        "    combined = old_population + new_population\n",
        "    fitness_combined = calculate_fitness(combined)\n",
        "\n",
        "    sorted_combined = sorted(fitness_combined, key=lambda x: x[1], reverse=True)\n",
        "    next_generation = [chrom for chrom, fit in sorted_combined[:POP_SIZE]]\n",
        "    return next_generation\n"
      ],
      "metadata": {
        "id": "PVVfylMsurVc"
      },
      "execution_count": null,
      "outputs": []
    },
    {
      "cell_type": "markdown",
      "source": [
        "# Main function:\n",
        "\n",
        "1. Initialize population\n",
        "\n",
        "2. Calculating the fitness for the current population\n",
        "\n",
        "3. Now we loop until TARGET is found\n",
        "\n",
        "  1. select best people from current population.\n",
        "\n",
        "  2. mate parents to make new generation.\n",
        "\n",
        "  3. mutating the children to diversify the new generation.\n",
        "\n",
        "  4. replacement of bad population with new generation."
      ],
      "metadata": {
        "id": "a4ekF3Q2u2I_"
      }
    },
    {
      "cell_type": "code",
      "source": [
        "def genetic_algorithm():\n",
        "    population = initialize_population()\n",
        "    generation = 0\n",
        "\n",
        "    while True:\n",
        "        fitness_list = calculate_fitness(population)\n",
        "        fitness_list = sorted(fitness_list, key=lambda x: x[1], reverse=True)\n",
        "\n",
        "        if fitness_list[0][1] == len(TARGET):\n",
        "            print(f\"Target reached in generation {generation}: {fitness_list[0][0]}\")\n",
        "            break\n",
        "\n",
        "        parents = selection(fitness_list)\n",
        "\n",
        "        offspring = crossover(parents)\n",
        "\n",
        "        mutated_offspring = mutation(offspring)\n",
        "\n",
        "        population = replacement(population, mutated_offspring)\n",
        "\n",
        "        generation += 1\n",
        "\n",
        "        if generation % 5 == 0:\n",
        "            print(f\"Generation {generation}: Best = {fitness_list[0][0]}, Fitness = {fitness_list[0][1]}\")\n",
        "\n"
      ],
      "metadata": {
        "id": "2IEA9MIDvN0h"
      },
      "execution_count": null,
      "outputs": []
    },
    {
      "cell_type": "code",
      "source": [
        "genetic_algorithm()\n"
      ],
      "metadata": {
        "colab": {
          "base_uri": "https://localhost:8080/"
        },
        "id": "AR1LDjHTzGBi",
        "outputId": "b38478d2-8a42-4c94-dd65-3346eb988816"
      },
      "execution_count": null,
      "outputs": [
        {
          "output_type": "stream",
          "name": "stdout",
          "text": [
            "Generation 5: Best = qowmuvaviotclmjfrnrjyldzcuit eq, Fitness = 8\n",
            "Generation 10: Best = cozpupajtwjalqjugritkye scuf ai, Fitness = 14\n",
            "Generation 15: Best = coypftaxiowclmpognbtvkejciienre, Fitness = 17\n",
            "Generation 20: Best = coypupationalmpognitige s lencq, Fitness = 23\n",
            "Generation 25: Best = coypukationalmpognitige scjence, Fitness = 25\n",
            "Generation 30: Best = comgucational cogcitive sxmence, Fitness = 26\n",
            "Generation 35: Best = computaxionalmtognitive suience, Fitness = 27\n",
            "Generation 40: Best = computationalxpognitwve science, Fitness = 28\n",
            "Generation 45: Best = computational cognitide suience, Fitness = 29\n",
            "Target reached in generation 48: computational cognitive science\n"
          ]
        }
      ]
    }
  ]
}